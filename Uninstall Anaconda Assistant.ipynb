{
 "cells": [
  {
   "cell_type": "markdown",
   "id": "0e685fe5-2785-4b50-afee-974f940dedcb",
   "metadata": {},
   "source": [
    "# **Jupyter Notebook Execution Count Not Sequential (e.g.1,3,5…)? Here's the Fix!** \n"
   ]
  },
  {
   "cell_type": "markdown",
   "id": "747ffde9-f0de-4452-98d6-16dd8ff1b82f",
   "metadata": {},
   "source": [
    "## [1] codes\n",
    "\n",
    "## [3] codes\n",
    "\n",
    "## [5] codes\n",
    "\n",
    "## .\n",
    "\n",
    "## .\n",
    "\n",
    "## ."
   ]
  },
  {
   "cell_type": "markdown",
   "id": "5190df51-989f-4f1a-ab75-5c49517ef3b7",
   "metadata": {},
   "source": [
    "### *Thank dear labarba (Lorena A. Barba) in Jupyer community forum for asking it!*\n",
    "\n",
    "### https://discourse.jupyter.org/t/strange-cell-execution-increments-by-2/29434 "
   ]
  },
  {
   "cell_type": "markdown",
   "id": "7b24c9f3-8301-4a97-95f6-d2c6ba3c1e3c",
   "metadata": {},
   "source": [
    "## It is only the fault of (Local) Anaconda Assistant in JupyterLab."
   ]
  },
  {
   "cell_type": "markdown",
   "id": "7f10e469-3152-458b-ae91-dccdab7a0911",
   "metadata": {},
   "source": [
    "#### how do I know my kernel is running the assistant? \n",
    " \n",
    "#### In the search section of your PC, search for Anadonda Navigator: \n"
   ]
  },
  {
   "cell_type": "markdown",
   "id": "4723ca06-4d57-4812-b32c-d35d9b493f70",
   "metadata": {},
   "source": [
    "![Picture1](https://github.com/Ella-Mvghrn/jupyter-troubleshooting/blob/79099cfac9a466bdb9b7c8320d6f492cbf454b4c/Jupyter/Picture1.png?raw=true)"
   ]
  },
  {
   "cell_type": "markdown",
   "id": "af1edf2d-2164-42c5-ae5c-74a70bcc6fdb",
   "metadata": {},
   "source": [
    "#### Then launch Anaconda Toolbox.\n",
    "#### It will be opened in your browser.\n",
    "#### In the toolbox section, you see the settings icon. Click on that. "
   ]
  },
  {
   "cell_type": "markdown",
   "id": "da2f97ed-d6a9-49cf-80f2-8bd88321df8a",
   "metadata": {},
   "source": [
    "![Picture2](https://github.com/Ella-Mvghrn/jupyter-troubleshooting/blob/79099cfac9a466bdb9b7c8320d6f492cbf454b4c/Jupyter/Picture2.png?raw=true)"
   ]
  },
  {
   "cell_type": "markdown",
   "id": "04c7d871-4e63-498a-b4f0-af9ee2124fcb",
   "metadata": {},
   "source": [
    "![Picture3](https://github.com/Ella-Mvghrn/jupyter-troubleshooting/blob/79099cfac9a466bdb9b7c8320d6f492cbf454b4c/Jupyter/Picture3.png?raw=true)"
   ]
  },
  {
   "cell_type": "markdown",
   "id": "71cbf17b-e373-47e1-a1a4-e637203cd78f",
   "metadata": {},
   "source": [
    "### Open the advanced tools section, and if you see this code below, it means you have the assistant installed on you system. "
   ]
  },
  {
   "cell_type": "markdown",
   "id": "5b96de1b-ee03-484c-8d49-9245ba2019b5",
   "metadata": {},
   "source": [
    "![Picture4](https://github.com/Ella-Mvghrn/jupyter-troubleshooting/blob/79099cfac9a466bdb9b7c8320d6f492cbf454b4c/Jupyter/Picture4.png?raw=true)"
   ]
  },
  {
   "cell_type": "markdown",
   "id": "f2d7ce0e-cee0-4a3e-850c-5224934c801d",
   "metadata": {},
   "source": [
    "### However, those three green stars say I am here!"
   ]
  },
  {
   "cell_type": "markdown",
   "id": "a140a859-ccab-449f-b41c-4759ab6fa01f",
   "metadata": {},
   "source": [
    "![Picture15](https://github.com/Ella-Mvghrn/jupyter-troubleshooting/blob/79099cfac9a466bdb9b7c8320d6f492cbf454b4c/Jupyter/Picture15.jpg?raw=true)"
   ]
  },
  {
   "cell_type": "markdown",
   "id": "b8617a88-e431-4e3f-b4b1-952410e16e2e",
   "metadata": {},
   "source": [
    "![Picture14](https://github.com/Ella-Mvghrn/jupyter-troubleshooting/blob/79099cfac9a466bdb9b7c8320d6f492cbf454b4c/Jupyter/Picture14.png?raw=true)"
   ]
  },
  {
   "cell_type": "markdown",
   "id": "4b129d37-93fa-4b4f-84c8-cc2b9134bc96",
   "metadata": {},
   "source": [
    "![Picture9](https://github.com/Ella-Mvghrn/jupyter-troubleshooting/blob/79099cfac9a466bdb9b7c8320d6f492cbf454b4c/Jupyter/Picture9.png?raw=true)\n"
   ]
  },
  {
   "cell_type": "markdown",
   "id": "062f4f58-10a4-41c5-ae18-8724ea7a8e06",
   "metadata": {},
   "source": [
    "### \n",
    " \n",
    "###  How to uninstall it right away! \n",
    "### Hmmm, that’s challenging! \n"
   ]
  },
  {
   "cell_type": "markdown",
   "id": "5c254de0-25e9-4135-8aec-20427be7d54d",
   "metadata": {},
   "source": [
    "### Run the code: \n",
    "### *conda remove anaconda-toolbox*"
   ]
  },
  {
   "cell_type": "markdown",
   "id": "f56ec505-6041-4c3e-a6f6-efcdcd3eaf80",
   "metadata": {},
   "source": [
    "### Got something like what you see below?"
   ]
  },
  {
   "cell_type": "markdown",
   "id": "c5032b6b-ef8b-49a5-a251-571196dd81c5",
   "metadata": {},
   "source": [
    "![Picture10](https://github.com/Ella-Mvghrn/jupyter-troubleshooting/blob/79099cfac9a466bdb9b7c8320d6f492cbf454b4c/Jupyter/Picture10.png?raw=true)"
   ]
  },
  {
   "cell_type": "markdown",
   "id": "ab54fc33-b907-4a82-b0be-436a12d50df7",
   "metadata": {},
   "source": [
    "### It’s ok! \n",
    "### Ah, got it! It looks like you’re still running `conda remove anaconda-toolbox` **inside a Jupyter cell**, which causes the same error — because Jupyter doesn’t always play well with system commands like `conda remove`. \n"
   ]
  },
  {
   "cell_type": "markdown",
   "id": "f77f7c26-f42d-4948-a465-625597a217dd",
   "metadata": {},
   "source": [
    "### Here's what you need to do instead (outside Jupyter): \n",
    "### Step-by-step: \n",
    "### 1.\tClose your Jupyter Notebook or JupyterLab. \n",
    "### 2.\tOpen the **\"Anaconda Prompt\"** (or Terminal if you're on Mac/Linux): \n",
    "###   - On Windows: Press the `Windows` key, type `Anaconda Prompt`, and open it. \n",
    "### 3. Then paste and run this command **directly in Anaconda Prompt**: \n"
   ]
  },
  {
   "cell_type": "markdown",
   "id": "47ae1c99-7a19-4493-9a70-68d972982e59",
   "metadata": {},
   "source": [
    "![Picture11](https://github.com/Ella-Mvghrn/jupyter-troubleshooting/blob/79099cfac9a466bdb9b7c8320d6f492cbf454b4c/Jupyter/Picture11.png?raw=true)"
   ]
  },
  {
   "cell_type": "markdown",
   "id": "dce752ef-24cb-4273-83f5-48f6550aede2",
   "metadata": {},
   "source": [
    "### Open it and run this code: \n",
    " \n",
    "### *conda remove anaconda-toolbox*\n",
    " \n",
    "### You’ll see this if everything goes fine! \n"
   ]
  },
  {
   "cell_type": "markdown",
   "id": "316b063f-2f09-4d25-b1a1-3966dfd6a98f",
   "metadata": {},
   "source": [
    "![Picture12](https://github.com/Ella-Mvghrn/jupyter-troubleshooting/blob/79099cfac9a466bdb9b7c8320d6f492cbf454b4c/Jupyter/Picture12.png?raw=true)"
   ]
  },
  {
   "cell_type": "markdown",
   "id": "b4c6429a-8084-4bfb-a43a-8e25e1d9b036",
   "metadata": {},
   "source": [
    "### Put **y** as your answer, and you’ll see this "
   ]
  },
  {
   "cell_type": "markdown",
   "id": "15daa611-db36-40b9-8a5d-020229f004d5",
   "metadata": {},
   "source": [
    "#### ![Picture13](https://github.com/Ella-Mvghrn/jupyter-troubleshooting/blob/79099cfac9a466bdb9b7c8320d6f492cbf454b4c/Jupyter/Picture13.png?raw=true)"
   ]
  },
  {
   "cell_type": "markdown",
   "id": "d5d016e0-c228-4fd2-bdc8-e9f4715241ff",
   "metadata": {},
   "source": [
    " \n",
    "### After it's done: \n",
    "### Wait for it to complete the uninstallation. \n",
    " \n",
    "### Then restart JupyterLab or Jupyter Notebook; You can do this either through Anaconda Navigator or however you start your Notebook! \n",
    " \n",
    "### Try it, I bet the problem has solved! [1], [2], [3], … \n",
    "### That’s not on your nerve anymore! Congrats!    The Anaconda Assistant was the cause, and it's gone. \n",
    "\n",
    ".\n",
    "\n",
    ".\n",
    "\n",
    ".\n",
    "\n",
    ".\n",
    "\n",
    "\n",
    " \n",
    " \n",
    " \n",
    " \n",
    "\n"
   ]
  },
  {
   "cell_type": "markdown",
   "id": "f730c9e4-ff34-41bb-88d6-fb9925d1d40b",
   "metadata": {},
   "source": [
    "## Elahe Movagharnia \n",
    "### 2025-04-25 "
   ]
  },
  {
   "cell_type": "code",
   "execution_count": null,
   "id": "739b5456-28be-4d2c-91f0-ab53ffb195e9",
   "metadata": {},
   "outputs": [],
   "source": []
  }
 ],
 "metadata": {
  "kernelspec": {
   "display_name": "Python 3 (ipykernel)",
   "language": "python",
   "name": "python3"
  },
  "language_info": {
   "codemirror_mode": {
    "name": "ipython",
    "version": 3
   },
   "file_extension": ".py",
   "mimetype": "text/x-python",
   "name": "python",
   "nbconvert_exporter": "python",
   "pygments_lexer": "ipython3",
   "version": "3.12.7"
  }
 },
 "nbformat": 4,
 "nbformat_minor": 5
}
