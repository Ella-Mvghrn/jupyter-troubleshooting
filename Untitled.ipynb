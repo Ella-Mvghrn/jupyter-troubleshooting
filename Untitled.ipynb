{
 "cells": [
  {
   "cell_type": "markdown",
   "id": "45bb6f42-223c-4093-961f-748fe4e3cec3",
   "metadata": {},
   "source": [
    "# Jupyter Execution Count Issue\n",
    "\n",
    "## What Is the Problem?\n",
    "\n",
    "### Step-by-Step Instructions\n",
    "\n",
    "#### Optional Tips\n"
   ]
  },
  {
   "cell_type": "markdown",
   "id": "6dfd068f-6e5f-449b-929d-28240fcd36f0",
   "metadata": {},
   "source": [
    "**This is bold**\n",
    "*This is italic*\n",
    "`This is code style`\n"
   ]
  },
  {
   "cell_type": "markdown",
   "id": "0e685fe5-2785-4b50-afee-974f940dedcb",
   "metadata": {},
   "source": [
    "# **Jupyter Notebook Execution Count Not Sequential (e.g.1,3,5…)? Here's the Fix!** \n"
   ]
  },
  {
   "cell_type": "markdown",
   "id": "747ffde9-f0de-4452-98d6-16dd8ff1b82f",
   "metadata": {},
   "source": [
    "## [1] codes\n",
    "\n",
    "## [3] codes\n",
    "\n",
    "## [5] codes\n",
    "\n",
    "## .\n",
    "\n",
    "## .\n",
    "\n",
    "## ."
   ]
  },
  {
   "cell_type": "markdown",
   "id": "5190df51-989f-4f1a-ab75-5c49517ef3b7",
   "metadata": {},
   "source": [
    "### *Thank dear labarba (Lorena A. Barba) in Jupyer community forum for asking it!*\n",
    "\n",
    "### https://discourse.jupyter.org/t/strange-cell-execution-increments-by-2/29434 "
   ]
  },
  {
   "cell_type": "markdown",
   "id": "7b24c9f3-8301-4a97-95f6-d2c6ba3c1e3c",
   "metadata": {},
   "source": [
    "## It is only the fault of (Local) Anaconda Assistant in JupyterLab."
   ]
  },
  {
   "cell_type": "markdown",
   "id": "7f10e469-3152-458b-ae91-dccdab7a0911",
   "metadata": {},
   "source": [
    "#### how do I know my kernel is running the assistant? \n",
    " \n",
    "#### In the search section of your PC, search for Anadonda Navigator: \n"
   ]
  },
  {
   "cell_type": "code",
   "execution_count": null,
   "id": "1232069e-c4a7-4e4b-8bba-5b47ccf7227b",
   "metadata": {},
   "outputs": [],
   "source": []
  }
 ],
 "metadata": {
  "kernelspec": {
   "display_name": "Python 3 (ipykernel)",
   "language": "python",
   "name": "python3"
  },
  "language_info": {
   "codemirror_mode": {
    "name": "ipython",
    "version": 3
   },
   "file_extension": ".py",
   "mimetype": "text/x-python",
   "name": "python",
   "nbconvert_exporter": "python",
   "pygments_lexer": "ipython3",
   "version": "3.12.7"
  }
 },
 "nbformat": 4,
 "nbformat_minor": 5
}
